{
 "cells": [
  {
   "cell_type": "code",
   "execution_count": null,
   "id": "0c660bda-08b1-4762-a555-d81e493ecf5c",
   "metadata": {
    "tags": []
   },
   "outputs": [],
   "source": [
    "import json\n",
    "import torch\n",
    "import re\n",
    "import pandas as pd\n",
    "from datasets import Dataset, load_dataset, DatasetDict\n",
    "from transformers import (\n",
    "    AutoModelForCausalLM,\n",
    "    AutoTokenizer,\n",
    "    BitsAndBytesConfig,\n",
    "    TrainingArguments,\n",
    "    DataCollatorForLanguageModeling,\n",
    "    BitsAndBytesConfig\n",
    ")\n",
    "import bitsandbytes\n",
    "from peft import LoraConfig, get_peft_model\n",
    "from trl import SFTTrainer\n",
    "import jsonlines\n",
    "import ast\n",
    "import os\n",
    "from tqdm import tqdm\n"
   ]
  },
  {
   "cell_type": "code",
   "execution_count": null,
   "id": "fa785ce7-7a2a-48a8-8b7c-fee37682061c",
   "metadata": {
    "tags": []
   },
   "outputs": [],
   "source": [
    "def load_model_and_tokenizer():\n",
    "    bnb_config = BitsAndBytesConfig(\n",
    "        load_in_4bit=True,\n",
    "        bnb_4bit_use_double_quant=True,\n",
    "        bnb_4bit_quant_type=\"nf4\",\n",
    "        bnb_4bit_compute_dtype=torch.float16,\n",
    "    )\n",
    "    model = AutoModelForCausalLM.from_pretrained(\n",
    "        '/root/autodl-tmp/models/Llama3-Med42-8B',\n",
    "        device_map={\"\":0},\n",
    "        trust_remote_code=True,\n",
    "        quantization_config=bnb_config\n",
    "    )\n",
    "\n",
    "    tokenizer = AutoTokenizer.from_pretrained('/root/autodl-tmp/models/Llama3-Med42-8B')\n",
    "    lora_config = LoraConfig.from_pretrained('/root/autodl-tmp/resultss/checkpoint-1500')\n",
    "    test_model = get_peft_model(model, lora_config)\n",
    "    return test_model, tokenizer\n",
    "\n",
    "def load_data():\n",
    "    root_directory = \"/root/autodl-tmp/filtrate_chunks\"\n",
    "    all_txt_contents = {}\n",
    "    all_file = '/root/autodl-tmp/output.jsonl'\n",
    "    all_exist_data = []\n",
    "    with open(all_file, 'r', encoding='utf-8') as file:\n",
    "        for item in jsonlines.Reader(file):\n",
    "            all_exist_data.append(item['id'])\n",
    "    for dirpath, dirnames, filenames in os.walk(root_directory):\n",
    "        for filename in filenames:\n",
    "            if filename.endswith(\".txt\"):\n",
    "                file_path = os.path.join(dirpath, filename)\n",
    "                with open(file_path, \"r\", encoding=\"utf-8\") as file:\n",
    "                    content = file.read()\n",
    "                    title = content.split('\\n')[0]\n",
    "                    content = '\\n'.join(content.split('\\n')[1::])\n",
    "                    if title not in all_exist_data:\n",
    "                        all_txt_contents[title] = content\n",
    "                    else:\n",
    "                        pass\n",
    "    return all_txt_contents\n",
    "\n",
    "def prompt_data(test_model, tokenizer, test_data):\n",
    "    test_text = \"\"\"### Instruction: \n",
    "Identify the entities in the sentence and the relationships between them.\n",
    "The following is an unstructured question, please extract the relationship between the possible entities in the text, and the output should follow the following format: {'relation_type': 'test_relation', 'Entity1_name': 'test1_name', 'Entity1_type': 'test1_type', 'Entity2_name': 'test2_name', 'Entity2_type': 'test2_type}\n",
    "You can only use the following entity types and relation types:\n",
    "    All entity types are: {clinical manifestations, materials, description, instrument, dosage, symptom, disease, prevention, oral part, causes, population, medicine, treatment, frequency, usage, examination} (seperated by ,)\n",
    "    All relationship types are: {medicine_contraindicates_population, treatment_has_description, is, medicine_contraindication_disease, disease_caused_disease, symptom_has_description, medicine_side-effect_symptom, medication-information_frequency, disease_usually happens_population, disease_has_clinical manifestations, clinical manifestations_happens at_oral part, Causes_disease, population_use_as_alternative_medicine, symptom_oralpart, clinical manifestations_use_treatment, examination_has_description, symptom_cause_symptom, medicine_medication-information, disease_has_description, oral_part_discription, examination_at_oral part, medicine_side-effect_disease, disease_symptom, disease_oral-part, disease_examination, prevent, disease_treatment, medicine_has_description, disease_lack response_examination, treatment_frequency, medicine_reduce_symptom, materials_use_as_medicine, instrument_discription, parent-child, medicine_treats_disease, clinical manifestations_from_examination, materials_has_description} (seperated by ,)\n",
    "Only extract the entities and relation that related with patient inquiry dental medical. Some relation type identify the two entity types that it connects, like medicine_contraindication_disease connect medicine and disease. Please make sure that relationship types like the above are connected to the correct entity types and the entities name cannot be the same as the entities type. If anything is related to the picture or illustration that do not appear in the input text, please ignore it.\n",
    "### Input: \n",
    "\"\"\" + test_data + \\\n",
    "\"\"\"\n",
    "### Response: \n",
    "\"\"\"\n",
    "    device = \"cuda:0\"\n",
    "    inputs = tokenizer(test_text, return_tensors=\"pt\").to(device)\n",
    "    outputs = test_model.generate(**inputs, max_new_tokens=3000)\n",
    "    response = '[' + \"},\".join(tokenizer.decode(outputs[0], skip_special_tokens=True).split('\\n### Response: ')[-1].strip().split('}')[:-1:]) + '}' + ']'\n",
    "    return response\n",
    "\n",
    "def storage(title, output):\n",
    "    with open(\"/root/autodl-tmp/output.jsonl\", \"a\") as file:\n",
    "        list_data = ast.literal_eval(response)\n",
    "        dict_data = {\n",
    "            'id': title,\n",
    "            'response': list_data\n",
    "        }\n",
    "        json_line = json.dumps(dict_data)\n",
    "        file.write(json_line + \"\\n\")"
   ]
  },
  {
   "cell_type": "code",
   "execution_count": null,
   "id": "41ee9e9e-f2c0-4657-a491-844d75ca6a86",
   "metadata": {
    "tags": []
   },
   "outputs": [],
   "source": [
    "test_model, tokenizer = load_model_and_tokenizer()\n",
    "all_data = load_data()\n",
    "for title, content in tqdm(all_data.items(), desc=\"Processing data\", ncols=100):\n",
    "    try:\n",
    "        response = prompt_data(test_model, tokenizer, content)\n",
    "        storage(title, response)\n",
    "        print(title, response)\n",
    "    except:\n",
    "        pass\n"
   ]
  },
  {
   "cell_type": "code",
   "execution_count": 15,
   "id": "78ba9022-e3d3-438a-8b61-0be1ba053273",
   "metadata": {
    "tags": []
   },
   "outputs": [
    {
     "name": "stdout",
     "output_type": "stream",
     "text": [
      "{'relation_type': 'disease_caused_disease', 'Entity1_name': 'oral pathosis', 'Entity1_type': 'disease', 'Entity2_name': 'dental medical', 'Entity2_type': 'disease'}\n"
     ]
    }
   ],
   "source": [
    "test = \"\"\"[\n",
    "{'relation_type': 'disease_caused_disease', 'Entity1_name': 'oral pathosis', 'Entity1_type': 'disease', 'Entity2_name': 'dental medical', 'Entity2_type': 'disease'},\n",
    "{'relation_type': 'examination_at_oral part', 'Entity1_name': 'Surgical endodontic treatment', 'Entity1_type': 'treatment', 'Entity2_name': 'apical region', 'Entity2_type': 'oral part'}\n",
    "]\"\"\"\n",
    "\n",
    "dict_data = ast.literal_eval(test)\n",
    "print(dict_data[0])"
   ]
  },
  {
   "cell_type": "code",
   "execution_count": null,
   "id": "2a887140-bb2f-4c98-9e16-79d3ef9bc886",
   "metadata": {},
   "outputs": [],
   "source": []
  }
 ],
 "metadata": {
  "kernelspec": {
   "display_name": "Python 3 (ipykernel)",
   "language": "python",
   "name": "python3"
  },
  "language_info": {
   "codemirror_mode": {
    "name": "ipython",
    "version": 3
   },
   "file_extension": ".py",
   "mimetype": "text/x-python",
   "name": "python",
   "nbconvert_exporter": "python",
   "pygments_lexer": "ipython3",
   "version": "3.8.10"
  }
 },
 "nbformat": 4,
 "nbformat_minor": 5
}
