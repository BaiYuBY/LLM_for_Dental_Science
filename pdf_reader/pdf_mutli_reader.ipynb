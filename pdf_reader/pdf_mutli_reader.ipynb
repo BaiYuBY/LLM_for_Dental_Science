{
 "cells": [
  {
   "cell_type": "code",
   "execution_count": null,
   "metadata": {},
   "outputs": [],
   "source": [
    "#查看ORC识别时是否有效去除页眉页脚。每一个新的PDF都用这个来看裁剪的参数\n",
    "\n",
    "import fitz\n",
    "import time\n",
    "import os\n",
    "from paddleocr import PaddleOCR\n",
    "import numpy as np\n",
    "from IPython.display import display\n",
    "import ipywidgets as widgets\n",
    "\n",
    "ocr = PaddleOCR(det=False, use_gpu=False, enable_mkldnn=True, use_tensorrt=True, use_angle_cls=True, lang='ch')\n",
    "\n",
    "def pdf_to_jpg(name):\n",
    "    pdfdoc = fitz.open(name)\n",
    "    temp = 0\n",
    "    page_index = 0\n",
    "    \n",
    "    def display_next_image(b):\n",
    "        nonlocal page_index\n",
    "        if page_index < pdfdoc.page_count:\n",
    "            page = pdfdoc[page_index]\n",
    "            rotate = int(0)\n",
    "            rect = page.rect\n",
    "\n",
    "            #裁剪范围\n",
    "            crop_top = 45\n",
    "            crop_bottom = 20\n",
    "            crop_right = 10\n",
    "            crop_left = 10\n",
    "\n",
    "            #缩放比例\n",
    "            zoom_x = 0.8\n",
    "            zoom_y = 0.8\n",
    "            rotate = int(0)\n",
    "            trans = fitz.Matrix(zoom_x, zoom_y).prerotate(rotate)\n",
    "            crop = fitz.Rect(rect.x0 + crop_left, rect.y0 + crop_top, rect.x1 - crop_right, rect.y1 - crop_bottom)\n",
    "            trans = fitz.Matrix(zoom_x, zoom_y).prerotate(rotate)\n",
    "            pm_cropped = page.get_pixmap(matrix=trans, alpha=False, clip=crop)\n",
    "            pm_original = page.get_pixmap(matrix=trans, alpha=False)\n",
    "            \n",
    "            # 将 pixmap 转换为图像并显示\n",
    "            img_cropped = widgets.Image(value=pm_cropped.tobytes(), format='png')\n",
    "            img_original = widgets.Image(value=pm_original.tobytes(), format='png')\n",
    "            \n",
    "            output.clear_output(wait=True)\n",
    "            with output:\n",
    "                display(widgets.HBox([img_original, img_cropped]))\n",
    "            page_index += 1\n",
    "        else:\n",
    "            output.clear_output(wait=True)\n",
    "            with output:\n",
    "                print(\"所有图片已显示完毕。\")\n",
    "    \n",
    "    button = widgets.Button(description=\"显示下一张图片\")\n",
    "    output = widgets.Output()\n",
    "    button.on_click(display_next_image)\n",
    "    \n",
    "    display(button, output)\n",
    "\n",
    "pdf_to_jpg(r'./Part3/P3_16.pdf')"
   ]
  },
  {
   "cell_type": "code",
   "execution_count": null,
   "metadata": {},
   "outputs": [],
   "source": [
    "# 使用LlamaParse库进行pdf转txt,每个账号每天只能跑1000页。\n",
    "\n",
    "import os\n",
    "import fitz  # PyMuPDF\n",
    "import nest_asyncio\n",
    "from llama_parse import LlamaParse\n",
    "from PyPDF2 import PdfWriter, PdfReader\n",
    "import glob\n",
    "\n",
    "# 定义裁剪区域，例如去除页眉和页脚各50像素。数值可以是负数。只要能跑就行\n",
    "crop_top = 25\n",
    "crop_bottom = 10\n",
    "crop_right = 10\n",
    "crop_left = 10\n",
    "shift_y = 15\n",
    "shift_x = 5\n",
    "\n",
    "# 这个是提高清晰度的。一般不要小于1。如果pdf字体过小可以适度同比增大x和y的缩放值。\n",
    "zoom_x = 2.0\n",
    "zoom_y = 2.0\n",
    "rotate = int(0)\n",
    "\n",
    "PDF_file_path = r'./Part3/P3_16.pdf'\n",
    "#所有的中间产物文件存放的位置\n",
    "output_file_path = r'./temp2'\n",
    "output_txt_path = r'./part3_txt'\n",
    "max_pages = 750\n",
    "# doc = fitz.open(PDF_file_path)\n",
    "\n",
    "#现在我们所有的临时文件都存在./temp目录下，这个是用来每次清理的。\n",
    "def clear_pdf_files(directory):\n",
    "    # 获取目录下所有PDF文件的路径\n",
    "    if os.path.exists(directory) == False:\n",
    "        os.mkdir(directory)\n",
    "    pdf_files = glob.glob(os.path.join(directory, '*.pdf'))\n",
    "    \n",
    "    # 删除每个PDF文件\n",
    "    for pdf_file in pdf_files:\n",
    "        try:\n",
    "            os.remove(pdf_file)\n",
    "            print(f\"Deleted {pdf_file}\")\n",
    "        except Exception as e:\n",
    "            print(f\"Error deleting {pdf_file}: {e}\")\n",
    "\n",
    "clear_pdf_files(output_file_path)\n",
    "\n",
    "#剪切PDF文件，一份最大750页。分割后不推荐一次传输。因为一个api的上限就是1k。可以分次上传后再手动合并。\n",
    "def split_pdf(input_path, max_pages, output_prefix):\n",
    "\n",
    "    pdf_document = fitz.open(input_path)\n",
    "    total_pages = len(pdf_document)\n",
    "\n",
    "    if total_pages <= max_pages:\n",
    "        print(f\"PDF has {total_pages} pages, no need to split.\")\n",
    "        output_path = os.path.join(output_prefix, \"temp.pdf\")\n",
    "        output_pdf = fitz.open()\n",
    "        output_pdf.insert_pdf(pdf_document, from_page=0, to_page=total_pages)\n",
    "        output_pdf.save(output_path)\n",
    "        output_pdf.close()\n",
    "        return\n",
    "\n",
    "    # 计算需要分割的份数\n",
    "    num_parts = (total_pages + max_pages - 1) // max_pages\n",
    "\n",
    "    for part in range(num_parts):\n",
    "        output_path = os.path.join(output_prefix, f\"temp_part_{part + 1}.pdf\")\n",
    "        output_pdf = fitz.open()\n",
    "\n",
    "        start_page = part * max_pages\n",
    "        end_page = min(start_page + max_pages, total_pages)\n",
    "\n",
    "        for page_num in range(start_page, end_page):\n",
    "            output_pdf.insert_pdf(pdf_document, from_page=page_num, to_page=page_num)\n",
    "\n",
    "        output_pdf.save(output_path)\n",
    "        output_pdf.close()\n",
    "\n",
    "        print(f\"Created {output_path} with pages {start_page + 1} to {end_page}\")\n",
    "\n",
    "#新的剪切pdf的方法。如果前面的无法剪切报错cropbox不在mediabox内时可以改用这个。这个产出的pdf文件大小特别大。现在最好先不要用了。。。\n",
    "def crop_pdf_new(input_pdf, output_pdf, crop_left, crop_top, crop_right, crop_bottom):\n",
    "\n",
    "    doc = fitz.open(input_pdf)\n",
    "    \n",
    "    new_doc = fitz.open()\n",
    "\n",
    "    #这个值不要太大，最多就到2吧。因为这个方法是直接保存图片的，每个pdf都特别大，zoom过大pdf会过大，上传会出现问题。\n",
    "    zoom_x = 2.0  # 你可以根据需要调整这个值\n",
    "    zoom_y = 2.0  # 你可以根据需要调整这个值\n",
    "    matrix = fitz.Matrix(zoom_x, zoom_y)\n",
    "\n",
    "    for page in doc:\n",
    "        rect = page.rect\n",
    "        \n",
    "\n",
    "        clip = fitz.Rect(\n",
    "            rect.x0 + crop_left,\n",
    "            rect.y0 + crop_top,\n",
    "            rect.x1 - crop_right,\n",
    "            rect.y1 - crop_bottom\n",
    "        )\n",
    "        \n",
    "        pix = page.get_pixmap(matrix = matrix, clip=clip)\n",
    "        pix.set_dpi(150, 150)  # 设置DPI，降低分辨率\n",
    "        \n",
    "        new_page = new_doc.new_page(width=pix.width, height=pix.height)\n",
    "        \n",
    "        new_page.insert_image(new_page.rect, pixmap=pix)\n",
    "    \n",
    "    new_doc.save(output_pdf)\n",
    "\n",
    "#另一个新的剪切pdf的方法。和旧方法类似。\n",
    "def crop_pdf_pypdf2(input_pdf, output_pdf, crop_left, crop_top, crop_right, crop_bottom, shift_x, shift_y):\n",
    "    with open(input_pdf, 'rb') as file:\n",
    "        reader = PdfReader(file)\n",
    "        writer = PdfWriter()\n",
    "\n",
    "        for page_num in range(len(reader.pages)):\n",
    "            page = reader.pages[page_num]\n",
    "            page.mediabox.lower_left  = (crop_left + shift_x + shift_x, crop_bottom + shift_y)\n",
    "            page.mediabox.lower_right  = (page.mediabox.width - crop_right + shift_x, crop_bottom + shift_y)\n",
    "            page.mediabox.upper_left = (crop_left + shift_x, page.mediabox.height - crop_top + shift_y)\n",
    "            page.mediabox.upper_Right = (page.mediabox.width - crop_right + shift_x, page.mediabox.height - crop_top + shift_y)\n",
    "            writer.add_page(page)\n",
    "\n",
    "        with open(output_pdf, 'wb') as output_file:\n",
    "            writer.write(output_file)\n",
    "\n",
    "#旧的剪切pdf的方法。\n",
    "def crop_pdf(input_pdf, output_pdf, crop_left, crop_top, crop_right, crop_bottom):\n",
    "    doc = fitz.open(input_pdf)\n",
    "    for n, page in enumerate(doc):\n",
    "        rect = page.rect\n",
    "        media_box = page.mediabox\n",
    "        # clip.x0 = max(clip.x0, media_box.x0)\n",
    "        # clip.y0 = max(clip.y0, media_box.y0)\n",
    "        # clip.x1 = min(clip.x1, media_box.x1)\n",
    "        # clip.y1 = min(clip.y1, media_box.y1)\n",
    "\n",
    "        # print(rect.x0, rect.y0, rect.x1, rect.y1)\n",
    "        # print(media_box.x0, media_box.y0, media_box.x1, media_box.y1)\n",
    "        if rect.x1 - rect.x0 < 10 or rect.y1 - rect.y0 < 10:\n",
    "            print(f\"Cannot read page {n+1}! Check it manually.\")\n",
    "            continue\n",
    "        trans = fitz.Matrix(zoom_x, zoom_y).prerotate(rotate)\n",
    "        clip = fitz.Rect(max(rect.x0 + crop_left, rect.x0), max(rect.y0 + crop_top, rect.y0), min(rect.x1 - crop_right, rect.x1), min(rect.y1 - crop_bottom, rect.y1))\n",
    "\n",
    "        # print(clip.x0, clip.y0, clip.x1, clip.y1)\n",
    "\n",
    "        page.set_cropbox(clip)\n",
    "\n",
    "        doc.save(output_pdf)\n",
    "\n",
    "# nest_asyncio.apply()\n",
    "\n",
    "API_KEY = 'llx-YWsF0qbwjBsQlhd5RVPqjivhSiRR69FZKEpg36sbxQnGU9vF'\n",
    "# reference: https://cloud.llamaindex.ai/parse\n",
    "\n",
    "parser = LlamaParse(\n",
    "    api_key=API_KEY,  # can also be set in your env as LLAMA_CLOUD_API_KEY\n",
    "    result_type=\"markdown\",  # \"markdown\" and \"text\" are available\n",
    "    num_workers=4,  # if multiple files passed, split in `num_workers` API calls\n",
    "    verbose=True,\n",
    "    language=\"en\",  # Optionally you can define a language, default=en\n",
    ")\n",
    "\n",
    "temp_pdf_path = os.path.join(os.path.join(output_file_path, \"temp.pdf\"))\n",
    "\n",
    "# cropped_pdf_doc = crop_pdf(PDF_file_path, temp_pdf_path, crop_left, crop_top, crop_right, crop_bottom)\n",
    "crop_pdf_pypdf2(PDF_file_path, temp_pdf_path, crop_left, crop_top, crop_right, crop_bottom, shift_x, shift_y)\n",
    "\n",
    "split_pdf(temp_pdf_path, max_pages, output_file_path)\n",
    "\n",
    "# documents = parser.load_data(temp_pdf_path)\n",
    "\n",
    "# # 处理返回的文档\n",
    "# with open(os.path.join(output_txt_path, PDF_file_path.split('.pdf')[0].split('/')[-1] + '_cropped.txt'), 'w+') as w:\n",
    "    # for i in documents:\n",
    "        # w.write(i.get_text())\n"
   ]
  },
  {
   "cell_type": "code",
   "execution_count": 16,
   "metadata": {},
   "outputs": [
    {
     "name": "stderr",
     "output_type": "stream",
     "text": [
      "INFO 2024-07-04 15:12:23,540 _client.py:1773] HTTP Request: POST https://api.cloud.llamaindex.ai/api/parsing/upload \"HTTP/1.1 200 OK\"\n"
     ]
    },
    {
     "name": "stdout",
     "output_type": "stream",
     "text": [
      "Started parsing the file under job_id b041e78d-6c29-4b54-9242-f469fa3923a5\n"
     ]
    },
    {
     "name": "stderr",
     "output_type": "stream",
     "text": [
      "INFO 2024-07-04 15:12:25,495 _client.py:1773] HTTP Request: GET https://api.cloud.llamaindex.ai/api/parsing/job/b041e78d-6c29-4b54-9242-f469fa3923a5 \"HTTP/1.1 200 OK\"\n",
      "INFO 2024-07-04 15:12:28,464 _client.py:1773] HTTP Request: GET https://api.cloud.llamaindex.ai/api/parsing/job/b041e78d-6c29-4b54-9242-f469fa3923a5 \"HTTP/1.1 200 OK\"\n",
      "INFO 2024-07-04 15:12:31,442 _client.py:1773] HTTP Request: GET https://api.cloud.llamaindex.ai/api/parsing/job/b041e78d-6c29-4b54-9242-f469fa3923a5 \"HTTP/1.1 200 OK\"\n",
      "INFO 2024-07-04 15:12:34,389 _client.py:1773] HTTP Request: GET https://api.cloud.llamaindex.ai/api/parsing/job/b041e78d-6c29-4b54-9242-f469fa3923a5 \"HTTP/1.1 200 OK\"\n",
      "INFO 2024-07-04 15:12:37,368 _client.py:1773] HTTP Request: GET https://api.cloud.llamaindex.ai/api/parsing/job/b041e78d-6c29-4b54-9242-f469fa3923a5 \"HTTP/1.1 200 OK\"\n",
      "INFO 2024-07-04 15:12:40,335 _client.py:1773] HTTP Request: GET https://api.cloud.llamaindex.ai/api/parsing/job/b041e78d-6c29-4b54-9242-f469fa3923a5 \"HTTP/1.1 200 OK\"\n",
      "INFO 2024-07-04 15:12:43,292 _client.py:1773] HTTP Request: GET https://api.cloud.llamaindex.ai/api/parsing/job/b041e78d-6c29-4b54-9242-f469fa3923a5 \"HTTP/1.1 200 OK\"\n",
      "INFO 2024-07-04 15:12:46,268 _client.py:1773] HTTP Request: GET https://api.cloud.llamaindex.ai/api/parsing/job/b041e78d-6c29-4b54-9242-f469fa3923a5 \"HTTP/1.1 200 OK\"\n",
      "INFO 2024-07-04 15:12:49,234 _client.py:1773] HTTP Request: GET https://api.cloud.llamaindex.ai/api/parsing/job/b041e78d-6c29-4b54-9242-f469fa3923a5 \"HTTP/1.1 200 OK\"\n",
      "INFO 2024-07-04 15:12:52,191 _client.py:1773] HTTP Request: GET https://api.cloud.llamaindex.ai/api/parsing/job/b041e78d-6c29-4b54-9242-f469fa3923a5 \"HTTP/1.1 200 OK\"\n"
     ]
    },
    {
     "name": "stdout",
     "output_type": "stream",
     "text": [
      "."
     ]
    },
    {
     "name": "stderr",
     "output_type": "stream",
     "text": [
      "INFO 2024-07-04 15:12:55,156 _client.py:1773] HTTP Request: GET https://api.cloud.llamaindex.ai/api/parsing/job/b041e78d-6c29-4b54-9242-f469fa3923a5 \"HTTP/1.1 200 OK\"\n",
      "INFO 2024-07-04 15:12:58,117 _client.py:1773] HTTP Request: GET https://api.cloud.llamaindex.ai/api/parsing/job/b041e78d-6c29-4b54-9242-f469fa3923a5 \"HTTP/1.1 200 OK\"\n",
      "INFO 2024-07-04 15:13:01,080 _client.py:1773] HTTP Request: GET https://api.cloud.llamaindex.ai/api/parsing/job/b041e78d-6c29-4b54-9242-f469fa3923a5 \"HTTP/1.1 200 OK\"\n",
      "INFO 2024-07-04 15:13:04,026 _client.py:1773] HTTP Request: GET https://api.cloud.llamaindex.ai/api/parsing/job/b041e78d-6c29-4b54-9242-f469fa3923a5 \"HTTP/1.1 200 OK\"\n",
      "INFO 2024-07-04 15:13:06,996 _client.py:1773] HTTP Request: GET https://api.cloud.llamaindex.ai/api/parsing/job/b041e78d-6c29-4b54-9242-f469fa3923a5 \"HTTP/1.1 200 OK\"\n",
      "INFO 2024-07-04 15:13:09,978 _client.py:1773] HTTP Request: GET https://api.cloud.llamaindex.ai/api/parsing/job/b041e78d-6c29-4b54-9242-f469fa3923a5 \"HTTP/1.1 200 OK\"\n",
      "INFO 2024-07-04 15:13:12,953 _client.py:1773] HTTP Request: GET https://api.cloud.llamaindex.ai/api/parsing/job/b041e78d-6c29-4b54-9242-f469fa3923a5 \"HTTP/1.1 200 OK\"\n",
      "INFO 2024-07-04 15:13:15,900 _client.py:1773] HTTP Request: GET https://api.cloud.llamaindex.ai/api/parsing/job/b041e78d-6c29-4b54-9242-f469fa3923a5 \"HTTP/1.1 200 OK\"\n",
      "INFO 2024-07-04 15:13:18,897 _client.py:1773] HTTP Request: GET https://api.cloud.llamaindex.ai/api/parsing/job/b041e78d-6c29-4b54-9242-f469fa3923a5 \"HTTP/1.1 200 OK\"\n",
      "INFO 2024-07-04 15:13:21,855 _client.py:1773] HTTP Request: GET https://api.cloud.llamaindex.ai/api/parsing/job/b041e78d-6c29-4b54-9242-f469fa3923a5 \"HTTP/1.1 200 OK\"\n"
     ]
    },
    {
     "name": "stdout",
     "output_type": "stream",
     "text": [
      "."
     ]
    },
    {
     "name": "stderr",
     "output_type": "stream",
     "text": [
      "INFO 2024-07-04 15:13:24,823 _client.py:1773] HTTP Request: GET https://api.cloud.llamaindex.ai/api/parsing/job/b041e78d-6c29-4b54-9242-f469fa3923a5 \"HTTP/1.1 200 OK\"\n",
      "INFO 2024-07-04 15:13:27,798 _client.py:1773] HTTP Request: GET https://api.cloud.llamaindex.ai/api/parsing/job/b041e78d-6c29-4b54-9242-f469fa3923a5 \"HTTP/1.1 200 OK\"\n",
      "INFO 2024-07-04 15:13:30,767 _client.py:1773] HTTP Request: GET https://api.cloud.llamaindex.ai/api/parsing/job/b041e78d-6c29-4b54-9242-f469fa3923a5 \"HTTP/1.1 200 OK\"\n",
      "INFO 2024-07-04 15:13:33,750 _client.py:1773] HTTP Request: GET https://api.cloud.llamaindex.ai/api/parsing/job/b041e78d-6c29-4b54-9242-f469fa3923a5 \"HTTP/1.1 200 OK\"\n",
      "INFO 2024-07-04 15:13:36,733 _client.py:1773] HTTP Request: GET https://api.cloud.llamaindex.ai/api/parsing/job/b041e78d-6c29-4b54-9242-f469fa3923a5 \"HTTP/1.1 200 OK\"\n",
      "INFO 2024-07-04 15:13:39,693 _client.py:1773] HTTP Request: GET https://api.cloud.llamaindex.ai/api/parsing/job/b041e78d-6c29-4b54-9242-f469fa3923a5 \"HTTP/1.1 200 OK\"\n",
      "INFO 2024-07-04 15:13:42,657 _client.py:1773] HTTP Request: GET https://api.cloud.llamaindex.ai/api/parsing/job/b041e78d-6c29-4b54-9242-f469fa3923a5 \"HTTP/1.1 200 OK\"\n",
      "INFO 2024-07-04 15:13:45,640 _client.py:1773] HTTP Request: GET https://api.cloud.llamaindex.ai/api/parsing/job/b041e78d-6c29-4b54-9242-f469fa3923a5 \"HTTP/1.1 200 OK\"\n",
      "INFO 2024-07-04 15:13:48,623 _client.py:1773] HTTP Request: GET https://api.cloud.llamaindex.ai/api/parsing/job/b041e78d-6c29-4b54-9242-f469fa3923a5 \"HTTP/1.1 200 OK\"\n",
      "INFO 2024-07-04 15:13:51,636 _client.py:1773] HTTP Request: GET https://api.cloud.llamaindex.ai/api/parsing/job/b041e78d-6c29-4b54-9242-f469fa3923a5 \"HTTP/1.1 200 OK\"\n"
     ]
    },
    {
     "name": "stdout",
     "output_type": "stream",
     "text": [
      "."
     ]
    },
    {
     "name": "stderr",
     "output_type": "stream",
     "text": [
      "INFO 2024-07-04 15:13:54,632 _client.py:1773] HTTP Request: GET https://api.cloud.llamaindex.ai/api/parsing/job/b041e78d-6c29-4b54-9242-f469fa3923a5 \"HTTP/1.1 200 OK\"\n",
      "INFO 2024-07-04 15:13:57,639 _client.py:1773] HTTP Request: GET https://api.cloud.llamaindex.ai/api/parsing/job/b041e78d-6c29-4b54-9242-f469fa3923a5 \"HTTP/1.1 200 OK\"\n",
      "INFO 2024-07-04 15:14:00,618 _client.py:1773] HTTP Request: GET https://api.cloud.llamaindex.ai/api/parsing/job/b041e78d-6c29-4b54-9242-f469fa3923a5 \"HTTP/1.1 200 OK\"\n",
      "INFO 2024-07-04 15:14:03,640 _client.py:1773] HTTP Request: GET https://api.cloud.llamaindex.ai/api/parsing/job/b041e78d-6c29-4b54-9242-f469fa3923a5 \"HTTP/1.1 200 OK\"\n",
      "INFO 2024-07-04 15:14:06,615 _client.py:1773] HTTP Request: GET https://api.cloud.llamaindex.ai/api/parsing/job/b041e78d-6c29-4b54-9242-f469fa3923a5 \"HTTP/1.1 200 OK\"\n",
      "INFO 2024-07-04 15:14:09,609 _client.py:1773] HTTP Request: GET https://api.cloud.llamaindex.ai/api/parsing/job/b041e78d-6c29-4b54-9242-f469fa3923a5 \"HTTP/1.1 200 OK\"\n",
      "INFO 2024-07-04 15:14:12,599 _client.py:1773] HTTP Request: GET https://api.cloud.llamaindex.ai/api/parsing/job/b041e78d-6c29-4b54-9242-f469fa3923a5 \"HTTP/1.1 200 OK\"\n",
      "INFO 2024-07-04 15:14:15,551 _client.py:1773] HTTP Request: GET https://api.cloud.llamaindex.ai/api/parsing/job/b041e78d-6c29-4b54-9242-f469fa3923a5 \"HTTP/1.1 200 OK\"\n",
      "INFO 2024-07-04 15:14:18,524 _client.py:1773] HTTP Request: GET https://api.cloud.llamaindex.ai/api/parsing/job/b041e78d-6c29-4b54-9242-f469fa3923a5 \"HTTP/1.1 200 OK\"\n",
      "INFO 2024-07-04 15:14:21,476 _client.py:1773] HTTP Request: GET https://api.cloud.llamaindex.ai/api/parsing/job/b041e78d-6c29-4b54-9242-f469fa3923a5 \"HTTP/1.1 200 OK\"\n"
     ]
    },
    {
     "name": "stdout",
     "output_type": "stream",
     "text": [
      "."
     ]
    },
    {
     "name": "stderr",
     "output_type": "stream",
     "text": [
      "INFO 2024-07-04 15:14:24,441 _client.py:1773] HTTP Request: GET https://api.cloud.llamaindex.ai/api/parsing/job/b041e78d-6c29-4b54-9242-f469fa3923a5 \"HTTP/1.1 200 OK\"\n",
      "INFO 2024-07-04 15:14:27,425 _client.py:1773] HTTP Request: GET https://api.cloud.llamaindex.ai/api/parsing/job/b041e78d-6c29-4b54-9242-f469fa3923a5 \"HTTP/1.1 200 OK\"\n",
      "INFO 2024-07-04 15:14:30,387 _client.py:1773] HTTP Request: GET https://api.cloud.llamaindex.ai/api/parsing/job/b041e78d-6c29-4b54-9242-f469fa3923a5 \"HTTP/1.1 200 OK\"\n",
      "INFO 2024-07-04 15:14:33,382 _client.py:1773] HTTP Request: GET https://api.cloud.llamaindex.ai/api/parsing/job/b041e78d-6c29-4b54-9242-f469fa3923a5 \"HTTP/1.1 200 OK\"\n",
      "INFO 2024-07-04 15:14:36,382 _client.py:1773] HTTP Request: GET https://api.cloud.llamaindex.ai/api/parsing/job/b041e78d-6c29-4b54-9242-f469fa3923a5 \"HTTP/1.1 200 OK\"\n",
      "INFO 2024-07-04 15:14:39,358 _client.py:1773] HTTP Request: GET https://api.cloud.llamaindex.ai/api/parsing/job/b041e78d-6c29-4b54-9242-f469fa3923a5 \"HTTP/1.1 200 OK\"\n",
      "INFO 2024-07-04 15:14:42,338 _client.py:1773] HTTP Request: GET https://api.cloud.llamaindex.ai/api/parsing/job/b041e78d-6c29-4b54-9242-f469fa3923a5 \"HTTP/1.1 200 OK\"\n",
      "INFO 2024-07-04 15:14:45,329 _client.py:1773] HTTP Request: GET https://api.cloud.llamaindex.ai/api/parsing/job/b041e78d-6c29-4b54-9242-f469fa3923a5 \"HTTP/1.1 200 OK\"\n",
      "INFO 2024-07-04 15:14:48,286 _client.py:1773] HTTP Request: GET https://api.cloud.llamaindex.ai/api/parsing/job/b041e78d-6c29-4b54-9242-f469fa3923a5 \"HTTP/1.1 200 OK\"\n",
      "INFO 2024-07-04 15:14:51,249 _client.py:1773] HTTP Request: GET https://api.cloud.llamaindex.ai/api/parsing/job/b041e78d-6c29-4b54-9242-f469fa3923a5 \"HTTP/1.1 200 OK\"\n"
     ]
    },
    {
     "name": "stdout",
     "output_type": "stream",
     "text": [
      "."
     ]
    },
    {
     "name": "stderr",
     "output_type": "stream",
     "text": [
      "INFO 2024-07-04 15:14:54,233 _client.py:1773] HTTP Request: GET https://api.cloud.llamaindex.ai/api/parsing/job/b041e78d-6c29-4b54-9242-f469fa3923a5 \"HTTP/1.1 200 OK\"\n",
      "INFO 2024-07-04 15:14:57,328 _client.py:1773] HTTP Request: GET https://api.cloud.llamaindex.ai/api/parsing/job/b041e78d-6c29-4b54-9242-f469fa3923a5 \"HTTP/1.1 200 OK\"\n",
      "INFO 2024-07-04 15:15:00,280 _client.py:1773] HTTP Request: GET https://api.cloud.llamaindex.ai/api/parsing/job/b041e78d-6c29-4b54-9242-f469fa3923a5 \"HTTP/1.1 200 OK\"\n",
      "INFO 2024-07-04 15:15:03,252 _client.py:1773] HTTP Request: GET https://api.cloud.llamaindex.ai/api/parsing/job/b041e78d-6c29-4b54-9242-f469fa3923a5 \"HTTP/1.1 200 OK\"\n",
      "INFO 2024-07-04 15:15:06,221 _client.py:1773] HTTP Request: GET https://api.cloud.llamaindex.ai/api/parsing/job/b041e78d-6c29-4b54-9242-f469fa3923a5 \"HTTP/1.1 200 OK\"\n",
      "INFO 2024-07-04 15:15:09,184 _client.py:1773] HTTP Request: GET https://api.cloud.llamaindex.ai/api/parsing/job/b041e78d-6c29-4b54-9242-f469fa3923a5 \"HTTP/1.1 200 OK\"\n",
      "INFO 2024-07-04 15:15:12,117 _client.py:1773] HTTP Request: GET https://api.cloud.llamaindex.ai/api/parsing/job/b041e78d-6c29-4b54-9242-f469fa3923a5 \"HTTP/1.1 200 OK\"\n",
      "INFO 2024-07-04 15:15:15,071 _client.py:1773] HTTP Request: GET https://api.cloud.llamaindex.ai/api/parsing/job/b041e78d-6c29-4b54-9242-f469fa3923a5 \"HTTP/1.1 200 OK\"\n",
      "INFO 2024-07-04 15:15:18,078 _client.py:1773] HTTP Request: GET https://api.cloud.llamaindex.ai/api/parsing/job/b041e78d-6c29-4b54-9242-f469fa3923a5 \"HTTP/1.1 200 OK\"\n",
      "INFO 2024-07-04 15:15:21,056 _client.py:1773] HTTP Request: GET https://api.cloud.llamaindex.ai/api/parsing/job/b041e78d-6c29-4b54-9242-f469fa3923a5 \"HTTP/1.1 200 OK\"\n"
     ]
    },
    {
     "name": "stdout",
     "output_type": "stream",
     "text": [
      "."
     ]
    },
    {
     "name": "stderr",
     "output_type": "stream",
     "text": [
      "INFO 2024-07-04 15:15:24,018 _client.py:1773] HTTP Request: GET https://api.cloud.llamaindex.ai/api/parsing/job/b041e78d-6c29-4b54-9242-f469fa3923a5 \"HTTP/1.1 200 OK\"\n",
      "INFO 2024-07-04 15:15:26,974 _client.py:1773] HTTP Request: GET https://api.cloud.llamaindex.ai/api/parsing/job/b041e78d-6c29-4b54-9242-f469fa3923a5 \"HTTP/1.1 200 OK\"\n",
      "INFO 2024-07-04 15:15:29,960 _client.py:1773] HTTP Request: GET https://api.cloud.llamaindex.ai/api/parsing/job/b041e78d-6c29-4b54-9242-f469fa3923a5 \"HTTP/1.1 200 OK\"\n",
      "INFO 2024-07-04 15:15:32,946 _client.py:1773] HTTP Request: GET https://api.cloud.llamaindex.ai/api/parsing/job/b041e78d-6c29-4b54-9242-f469fa3923a5 \"HTTP/1.1 200 OK\"\n",
      "INFO 2024-07-04 15:15:35,947 _client.py:1773] HTTP Request: GET https://api.cloud.llamaindex.ai/api/parsing/job/b041e78d-6c29-4b54-9242-f469fa3923a5 \"HTTP/1.1 200 OK\"\n",
      "INFO 2024-07-04 15:15:38,942 _client.py:1773] HTTP Request: GET https://api.cloud.llamaindex.ai/api/parsing/job/b041e78d-6c29-4b54-9242-f469fa3923a5 \"HTTP/1.1 200 OK\"\n",
      "INFO 2024-07-04 15:15:41,998 _client.py:1773] HTTP Request: GET https://api.cloud.llamaindex.ai/api/parsing/job/b041e78d-6c29-4b54-9242-f469fa3923a5 \"HTTP/1.1 200 OK\"\n",
      "INFO 2024-07-04 15:15:44,972 _client.py:1773] HTTP Request: GET https://api.cloud.llamaindex.ai/api/parsing/job/b041e78d-6c29-4b54-9242-f469fa3923a5 \"HTTP/1.1 200 OK\"\n",
      "INFO 2024-07-04 15:15:48,000 _client.py:1773] HTTP Request: GET https://api.cloud.llamaindex.ai/api/parsing/job/b041e78d-6c29-4b54-9242-f469fa3923a5 \"HTTP/1.1 200 OK\"\n",
      "INFO 2024-07-04 15:15:51,005 _client.py:1773] HTTP Request: GET https://api.cloud.llamaindex.ai/api/parsing/job/b041e78d-6c29-4b54-9242-f469fa3923a5 \"HTTP/1.1 200 OK\"\n"
     ]
    },
    {
     "name": "stdout",
     "output_type": "stream",
     "text": [
      "."
     ]
    },
    {
     "name": "stderr",
     "output_type": "stream",
     "text": [
      "INFO 2024-07-04 15:15:53,981 _client.py:1773] HTTP Request: GET https://api.cloud.llamaindex.ai/api/parsing/job/b041e78d-6c29-4b54-9242-f469fa3923a5 \"HTTP/1.1 200 OK\"\n",
      "INFO 2024-07-04 15:15:56,997 _client.py:1773] HTTP Request: GET https://api.cloud.llamaindex.ai/api/parsing/job/b041e78d-6c29-4b54-9242-f469fa3923a5 \"HTTP/1.1 200 OK\"\n",
      "INFO 2024-07-04 15:15:59,958 _client.py:1773] HTTP Request: GET https://api.cloud.llamaindex.ai/api/parsing/job/b041e78d-6c29-4b54-9242-f469fa3923a5 \"HTTP/1.1 200 OK\"\n",
      "INFO 2024-07-04 15:16:02,932 _client.py:1773] HTTP Request: GET https://api.cloud.llamaindex.ai/api/parsing/job/b041e78d-6c29-4b54-9242-f469fa3923a5 \"HTTP/1.1 200 OK\"\n",
      "INFO 2024-07-04 15:16:05,912 _client.py:1773] HTTP Request: GET https://api.cloud.llamaindex.ai/api/parsing/job/b041e78d-6c29-4b54-9242-f469fa3923a5 \"HTTP/1.1 200 OK\"\n",
      "INFO 2024-07-04 15:16:08,924 _client.py:1773] HTTP Request: GET https://api.cloud.llamaindex.ai/api/parsing/job/b041e78d-6c29-4b54-9242-f469fa3923a5 \"HTTP/1.1 200 OK\"\n",
      "INFO 2024-07-04 15:16:11,897 _client.py:1773] HTTP Request: GET https://api.cloud.llamaindex.ai/api/parsing/job/b041e78d-6c29-4b54-9242-f469fa3923a5 \"HTTP/1.1 200 OK\"\n",
      "INFO 2024-07-04 15:16:14,850 _client.py:1773] HTTP Request: GET https://api.cloud.llamaindex.ai/api/parsing/job/b041e78d-6c29-4b54-9242-f469fa3923a5 \"HTTP/1.1 200 OK\"\n",
      "INFO 2024-07-04 15:16:17,802 _client.py:1773] HTTP Request: GET https://api.cloud.llamaindex.ai/api/parsing/job/b041e78d-6c29-4b54-9242-f469fa3923a5 \"HTTP/1.1 200 OK\"\n",
      "INFO 2024-07-04 15:16:20,768 _client.py:1773] HTTP Request: GET https://api.cloud.llamaindex.ai/api/parsing/job/b041e78d-6c29-4b54-9242-f469fa3923a5 \"HTTP/1.1 200 OK\"\n"
     ]
    },
    {
     "name": "stdout",
     "output_type": "stream",
     "text": [
      "."
     ]
    },
    {
     "name": "stderr",
     "output_type": "stream",
     "text": [
      "INFO 2024-07-04 15:16:23,711 _client.py:1773] HTTP Request: GET https://api.cloud.llamaindex.ai/api/parsing/job/b041e78d-6c29-4b54-9242-f469fa3923a5 \"HTTP/1.1 200 OK\"\n",
      "INFO 2024-07-04 15:16:26,664 _client.py:1773] HTTP Request: GET https://api.cloud.llamaindex.ai/api/parsing/job/b041e78d-6c29-4b54-9242-f469fa3923a5 \"HTTP/1.1 200 OK\"\n",
      "INFO 2024-07-04 15:16:29,648 _client.py:1773] HTTP Request: GET https://api.cloud.llamaindex.ai/api/parsing/job/b041e78d-6c29-4b54-9242-f469fa3923a5 \"HTTP/1.1 200 OK\"\n",
      "INFO 2024-07-04 15:16:32,647 _client.py:1773] HTTP Request: GET https://api.cloud.llamaindex.ai/api/parsing/job/b041e78d-6c29-4b54-9242-f469fa3923a5 \"HTTP/1.1 200 OK\"\n",
      "INFO 2024-07-04 15:16:35,610 _client.py:1773] HTTP Request: GET https://api.cloud.llamaindex.ai/api/parsing/job/b041e78d-6c29-4b54-9242-f469fa3923a5 \"HTTP/1.1 200 OK\"\n",
      "INFO 2024-07-04 15:16:38,577 _client.py:1773] HTTP Request: GET https://api.cloud.llamaindex.ai/api/parsing/job/b041e78d-6c29-4b54-9242-f469fa3923a5 \"HTTP/1.1 200 OK\"\n",
      "INFO 2024-07-04 15:16:41,540 _client.py:1773] HTTP Request: GET https://api.cloud.llamaindex.ai/api/parsing/job/b041e78d-6c29-4b54-9242-f469fa3923a5 \"HTTP/1.1 200 OK\"\n",
      "INFO 2024-07-04 15:16:44,499 _client.py:1773] HTTP Request: GET https://api.cloud.llamaindex.ai/api/parsing/job/b041e78d-6c29-4b54-9242-f469fa3923a5 \"HTTP/1.1 200 OK\"\n",
      "INFO 2024-07-04 15:16:47,468 _client.py:1773] HTTP Request: GET https://api.cloud.llamaindex.ai/api/parsing/job/b041e78d-6c29-4b54-9242-f469fa3923a5 \"HTTP/1.1 200 OK\"\n",
      "INFO 2024-07-04 15:16:50,411 _client.py:1773] HTTP Request: GET https://api.cloud.llamaindex.ai/api/parsing/job/b041e78d-6c29-4b54-9242-f469fa3923a5 \"HTTP/1.1 200 OK\"\n"
     ]
    },
    {
     "name": "stdout",
     "output_type": "stream",
     "text": [
      "."
     ]
    },
    {
     "name": "stderr",
     "output_type": "stream",
     "text": [
      "INFO 2024-07-04 15:16:53,396 _client.py:1773] HTTP Request: GET https://api.cloud.llamaindex.ai/api/parsing/job/b041e78d-6c29-4b54-9242-f469fa3923a5 \"HTTP/1.1 200 OK\"\n",
      "INFO 2024-07-04 15:16:56,366 _client.py:1773] HTTP Request: GET https://api.cloud.llamaindex.ai/api/parsing/job/b041e78d-6c29-4b54-9242-f469fa3923a5 \"HTTP/1.1 200 OK\"\n",
      "INFO 2024-07-04 15:16:59,338 _client.py:1773] HTTP Request: GET https://api.cloud.llamaindex.ai/api/parsing/job/b041e78d-6c29-4b54-9242-f469fa3923a5 \"HTTP/1.1 200 OK\"\n",
      "INFO 2024-07-04 15:17:02,302 _client.py:1773] HTTP Request: GET https://api.cloud.llamaindex.ai/api/parsing/job/b041e78d-6c29-4b54-9242-f469fa3923a5 \"HTTP/1.1 200 OK\"\n",
      "INFO 2024-07-04 15:17:05,281 _client.py:1773] HTTP Request: GET https://api.cloud.llamaindex.ai/api/parsing/job/b041e78d-6c29-4b54-9242-f469fa3923a5 \"HTTP/1.1 200 OK\"\n",
      "INFO 2024-07-04 15:17:08,247 _client.py:1773] HTTP Request: GET https://api.cloud.llamaindex.ai/api/parsing/job/b041e78d-6c29-4b54-9242-f469fa3923a5 \"HTTP/1.1 200 OK\"\n",
      "INFO 2024-07-04 15:17:11,218 _client.py:1773] HTTP Request: GET https://api.cloud.llamaindex.ai/api/parsing/job/b041e78d-6c29-4b54-9242-f469fa3923a5 \"HTTP/1.1 200 OK\"\n",
      "INFO 2024-07-04 15:17:14,189 _client.py:1773] HTTP Request: GET https://api.cloud.llamaindex.ai/api/parsing/job/b041e78d-6c29-4b54-9242-f469fa3923a5 \"HTTP/1.1 200 OK\"\n",
      "INFO 2024-07-04 15:17:17,179 _client.py:1773] HTTP Request: GET https://api.cloud.llamaindex.ai/api/parsing/job/b041e78d-6c29-4b54-9242-f469fa3923a5 \"HTTP/1.1 200 OK\"\n",
      "INFO 2024-07-04 15:17:20,206 _client.py:1773] HTTP Request: GET https://api.cloud.llamaindex.ai/api/parsing/job/b041e78d-6c29-4b54-9242-f469fa3923a5 \"HTTP/1.1 200 OK\"\n"
     ]
    },
    {
     "name": "stdout",
     "output_type": "stream",
     "text": [
      "."
     ]
    },
    {
     "name": "stderr",
     "output_type": "stream",
     "text": [
      "INFO 2024-07-04 15:17:23,244 _client.py:1773] HTTP Request: GET https://api.cloud.llamaindex.ai/api/parsing/job/b041e78d-6c29-4b54-9242-f469fa3923a5 \"HTTP/1.1 200 OK\"\n",
      "INFO 2024-07-04 15:17:26,223 _client.py:1773] HTTP Request: GET https://api.cloud.llamaindex.ai/api/parsing/job/b041e78d-6c29-4b54-9242-f469fa3923a5 \"HTTP/1.1 200 OK\"\n",
      "INFO 2024-07-04 15:17:29,203 _client.py:1773] HTTP Request: GET https://api.cloud.llamaindex.ai/api/parsing/job/b041e78d-6c29-4b54-9242-f469fa3923a5 \"HTTP/1.1 200 OK\"\n",
      "INFO 2024-07-04 15:17:32,167 _client.py:1773] HTTP Request: GET https://api.cloud.llamaindex.ai/api/parsing/job/b041e78d-6c29-4b54-9242-f469fa3923a5 \"HTTP/1.1 200 OK\"\n",
      "INFO 2024-07-04 15:17:35,144 _client.py:1773] HTTP Request: GET https://api.cloud.llamaindex.ai/api/parsing/job/b041e78d-6c29-4b54-9242-f469fa3923a5 \"HTTP/1.1 200 OK\"\n",
      "INFO 2024-07-04 15:17:38,103 _client.py:1773] HTTP Request: GET https://api.cloud.llamaindex.ai/api/parsing/job/b041e78d-6c29-4b54-9242-f469fa3923a5 \"HTTP/1.1 200 OK\"\n",
      "INFO 2024-07-04 15:17:41,066 _client.py:1773] HTTP Request: GET https://api.cloud.llamaindex.ai/api/parsing/job/b041e78d-6c29-4b54-9242-f469fa3923a5 \"HTTP/1.1 200 OK\"\n",
      "INFO 2024-07-04 15:17:44,044 _client.py:1773] HTTP Request: GET https://api.cloud.llamaindex.ai/api/parsing/job/b041e78d-6c29-4b54-9242-f469fa3923a5 \"HTTP/1.1 200 OK\"\n",
      "INFO 2024-07-04 15:17:47,034 _client.py:1773] HTTP Request: GET https://api.cloud.llamaindex.ai/api/parsing/job/b041e78d-6c29-4b54-9242-f469fa3923a5 \"HTTP/1.1 200 OK\"\n",
      "INFO 2024-07-04 15:17:49,986 _client.py:1773] HTTP Request: GET https://api.cloud.llamaindex.ai/api/parsing/job/b041e78d-6c29-4b54-9242-f469fa3923a5 \"HTTP/1.1 200 OK\"\n"
     ]
    },
    {
     "name": "stdout",
     "output_type": "stream",
     "text": [
      "."
     ]
    },
    {
     "name": "stderr",
     "output_type": "stream",
     "text": [
      "INFO 2024-07-04 15:17:52,976 _client.py:1773] HTTP Request: GET https://api.cloud.llamaindex.ai/api/parsing/job/b041e78d-6c29-4b54-9242-f469fa3923a5 \"HTTP/1.1 200 OK\"\n",
      "INFO 2024-07-04 15:17:55,938 _client.py:1773] HTTP Request: GET https://api.cloud.llamaindex.ai/api/parsing/job/b041e78d-6c29-4b54-9242-f469fa3923a5 \"HTTP/1.1 200 OK\"\n",
      "INFO 2024-07-04 15:17:58,902 _client.py:1773] HTTP Request: GET https://api.cloud.llamaindex.ai/api/parsing/job/b041e78d-6c29-4b54-9242-f469fa3923a5 \"HTTP/1.1 200 OK\"\n",
      "INFO 2024-07-04 15:18:01,914 _client.py:1773] HTTP Request: GET https://api.cloud.llamaindex.ai/api/parsing/job/b041e78d-6c29-4b54-9242-f469fa3923a5 \"HTTP/1.1 200 OK\"\n",
      "INFO 2024-07-04 15:18:04,870 _client.py:1773] HTTP Request: GET https://api.cloud.llamaindex.ai/api/parsing/job/b041e78d-6c29-4b54-9242-f469fa3923a5 \"HTTP/1.1 200 OK\"\n",
      "INFO 2024-07-04 15:18:07,821 _client.py:1773] HTTP Request: GET https://api.cloud.llamaindex.ai/api/parsing/job/b041e78d-6c29-4b54-9242-f469fa3923a5 \"HTTP/1.1 200 OK\"\n",
      "INFO 2024-07-04 15:18:10,774 _client.py:1773] HTTP Request: GET https://api.cloud.llamaindex.ai/api/parsing/job/b041e78d-6c29-4b54-9242-f469fa3923a5 \"HTTP/1.1 200 OK\"\n",
      "INFO 2024-07-04 15:18:13,720 _client.py:1773] HTTP Request: GET https://api.cloud.llamaindex.ai/api/parsing/job/b041e78d-6c29-4b54-9242-f469fa3923a5 \"HTTP/1.1 200 OK\"\n",
      "INFO 2024-07-04 15:18:16,684 _client.py:1773] HTTP Request: GET https://api.cloud.llamaindex.ai/api/parsing/job/b041e78d-6c29-4b54-9242-f469fa3923a5 \"HTTP/1.1 200 OK\"\n",
      "INFO 2024-07-04 15:18:19,654 _client.py:1773] HTTP Request: GET https://api.cloud.llamaindex.ai/api/parsing/job/b041e78d-6c29-4b54-9242-f469fa3923a5 \"HTTP/1.1 200 OK\"\n"
     ]
    },
    {
     "name": "stdout",
     "output_type": "stream",
     "text": [
      "."
     ]
    },
    {
     "name": "stderr",
     "output_type": "stream",
     "text": [
      "INFO 2024-07-04 15:18:22,621 _client.py:1773] HTTP Request: GET https://api.cloud.llamaindex.ai/api/parsing/job/b041e78d-6c29-4b54-9242-f469fa3923a5 \"HTTP/1.1 200 OK\"\n",
      "INFO 2024-07-04 15:18:25,586 _client.py:1773] HTTP Request: GET https://api.cloud.llamaindex.ai/api/parsing/job/b041e78d-6c29-4b54-9242-f469fa3923a5 \"HTTP/1.1 200 OK\"\n",
      "INFO 2024-07-04 15:18:28,555 _client.py:1773] HTTP Request: GET https://api.cloud.llamaindex.ai/api/parsing/job/b041e78d-6c29-4b54-9242-f469fa3923a5 \"HTTP/1.1 200 OK\"\n",
      "INFO 2024-07-04 15:18:31,512 _client.py:1773] HTTP Request: GET https://api.cloud.llamaindex.ai/api/parsing/job/b041e78d-6c29-4b54-9242-f469fa3923a5 \"HTTP/1.1 200 OK\"\n",
      "INFO 2024-07-04 15:18:34,476 _client.py:1773] HTTP Request: GET https://api.cloud.llamaindex.ai/api/parsing/job/b041e78d-6c29-4b54-9242-f469fa3923a5 \"HTTP/1.1 200 OK\"\n",
      "INFO 2024-07-04 15:18:37,461 _client.py:1773] HTTP Request: GET https://api.cloud.llamaindex.ai/api/parsing/job/b041e78d-6c29-4b54-9242-f469fa3923a5 \"HTTP/1.1 200 OK\"\n",
      "INFO 2024-07-04 15:18:40,445 _client.py:1773] HTTP Request: GET https://api.cloud.llamaindex.ai/api/parsing/job/b041e78d-6c29-4b54-9242-f469fa3923a5 \"HTTP/1.1 200 OK\"\n",
      "INFO 2024-07-04 15:18:43,418 _client.py:1773] HTTP Request: GET https://api.cloud.llamaindex.ai/api/parsing/job/b041e78d-6c29-4b54-9242-f469fa3923a5 \"HTTP/1.1 200 OK\"\n",
      "INFO 2024-07-04 15:18:46,414 _client.py:1773] HTTP Request: GET https://api.cloud.llamaindex.ai/api/parsing/job/b041e78d-6c29-4b54-9242-f469fa3923a5 \"HTTP/1.1 200 OK\"\n",
      "INFO 2024-07-04 15:18:49,402 _client.py:1773] HTTP Request: GET https://api.cloud.llamaindex.ai/api/parsing/job/b041e78d-6c29-4b54-9242-f469fa3923a5 \"HTTP/1.1 200 OK\"\n"
     ]
    },
    {
     "name": "stdout",
     "output_type": "stream",
     "text": [
      "."
     ]
    },
    {
     "name": "stderr",
     "output_type": "stream",
     "text": [
      "INFO 2024-07-04 15:18:52,378 _client.py:1773] HTTP Request: GET https://api.cloud.llamaindex.ai/api/parsing/job/b041e78d-6c29-4b54-9242-f469fa3923a5 \"HTTP/1.1 200 OK\"\n",
      "INFO 2024-07-04 15:18:55,339 _client.py:1773] HTTP Request: GET https://api.cloud.llamaindex.ai/api/parsing/job/b041e78d-6c29-4b54-9242-f469fa3923a5 \"HTTP/1.1 200 OK\"\n",
      "INFO 2024-07-04 15:18:58,295 _client.py:1773] HTTP Request: GET https://api.cloud.llamaindex.ai/api/parsing/job/b041e78d-6c29-4b54-9242-f469fa3923a5 \"HTTP/1.1 200 OK\"\n",
      "INFO 2024-07-04 15:19:01,266 _client.py:1773] HTTP Request: GET https://api.cloud.llamaindex.ai/api/parsing/job/b041e78d-6c29-4b54-9242-f469fa3923a5 \"HTTP/1.1 200 OK\"\n",
      "INFO 2024-07-04 15:19:04,279 _client.py:1773] HTTP Request: GET https://api.cloud.llamaindex.ai/api/parsing/job/b041e78d-6c29-4b54-9242-f469fa3923a5 \"HTTP/1.1 200 OK\"\n",
      "INFO 2024-07-04 15:19:07,259 _client.py:1773] HTTP Request: GET https://api.cloud.llamaindex.ai/api/parsing/job/b041e78d-6c29-4b54-9242-f469fa3923a5 \"HTTP/1.1 200 OK\"\n",
      "INFO 2024-07-04 15:19:10,244 _client.py:1773] HTTP Request: GET https://api.cloud.llamaindex.ai/api/parsing/job/b041e78d-6c29-4b54-9242-f469fa3923a5 \"HTTP/1.1 200 OK\"\n",
      "INFO 2024-07-04 15:19:13,232 _client.py:1773] HTTP Request: GET https://api.cloud.llamaindex.ai/api/parsing/job/b041e78d-6c29-4b54-9242-f469fa3923a5 \"HTTP/1.1 200 OK\"\n",
      "INFO 2024-07-04 15:19:16,188 _client.py:1773] HTTP Request: GET https://api.cloud.llamaindex.ai/api/parsing/job/b041e78d-6c29-4b54-9242-f469fa3923a5 \"HTTP/1.1 200 OK\"\n",
      "INFO 2024-07-04 15:19:19,165 _client.py:1773] HTTP Request: GET https://api.cloud.llamaindex.ai/api/parsing/job/b041e78d-6c29-4b54-9242-f469fa3923a5 \"HTTP/1.1 200 OK\"\n"
     ]
    },
    {
     "name": "stdout",
     "output_type": "stream",
     "text": [
      "."
     ]
    },
    {
     "name": "stderr",
     "output_type": "stream",
     "text": [
      "INFO 2024-07-04 15:19:22,131 _client.py:1773] HTTP Request: GET https://api.cloud.llamaindex.ai/api/parsing/job/b041e78d-6c29-4b54-9242-f469fa3923a5 \"HTTP/1.1 200 OK\"\n",
      "INFO 2024-07-04 15:19:25,077 _client.py:1773] HTTP Request: GET https://api.cloud.llamaindex.ai/api/parsing/job/b041e78d-6c29-4b54-9242-f469fa3923a5 \"HTTP/1.1 200 OK\"\n",
      "INFO 2024-07-04 15:19:28,068 _client.py:1773] HTTP Request: GET https://api.cloud.llamaindex.ai/api/parsing/job/b041e78d-6c29-4b54-9242-f469fa3923a5 \"HTTP/1.1 200 OK\"\n",
      "INFO 2024-07-04 15:19:31,032 _client.py:1773] HTTP Request: GET https://api.cloud.llamaindex.ai/api/parsing/job/b041e78d-6c29-4b54-9242-f469fa3923a5 \"HTTP/1.1 200 OK\"\n",
      "INFO 2024-07-04 15:19:34,035 _client.py:1773] HTTP Request: GET https://api.cloud.llamaindex.ai/api/parsing/job/b041e78d-6c29-4b54-9242-f469fa3923a5 \"HTTP/1.1 200 OK\"\n",
      "INFO 2024-07-04 15:19:37,011 _client.py:1773] HTTP Request: GET https://api.cloud.llamaindex.ai/api/parsing/job/b041e78d-6c29-4b54-9242-f469fa3923a5 \"HTTP/1.1 200 OK\"\n",
      "INFO 2024-07-04 15:19:39,958 _client.py:1773] HTTP Request: GET https://api.cloud.llamaindex.ai/api/parsing/job/b041e78d-6c29-4b54-9242-f469fa3923a5 \"HTTP/1.1 200 OK\"\n",
      "INFO 2024-07-04 15:19:42,902 _client.py:1773] HTTP Request: GET https://api.cloud.llamaindex.ai/api/parsing/job/b041e78d-6c29-4b54-9242-f469fa3923a5 \"HTTP/1.1 200 OK\"\n",
      "INFO 2024-07-04 15:19:45,861 _client.py:1773] HTTP Request: GET https://api.cloud.llamaindex.ai/api/parsing/job/b041e78d-6c29-4b54-9242-f469fa3923a5 \"HTTP/1.1 200 OK\"\n",
      "INFO 2024-07-04 15:19:48,805 _client.py:1773] HTTP Request: GET https://api.cloud.llamaindex.ai/api/parsing/job/b041e78d-6c29-4b54-9242-f469fa3923a5 \"HTTP/1.1 200 OK\"\n"
     ]
    },
    {
     "name": "stdout",
     "output_type": "stream",
     "text": [
      "."
     ]
    },
    {
     "name": "stderr",
     "output_type": "stream",
     "text": [
      "INFO 2024-07-04 15:19:51,767 _client.py:1773] HTTP Request: GET https://api.cloud.llamaindex.ai/api/parsing/job/b041e78d-6c29-4b54-9242-f469fa3923a5 \"HTTP/1.1 200 OK\"\n",
      "INFO 2024-07-04 15:19:54,720 _client.py:1773] HTTP Request: GET https://api.cloud.llamaindex.ai/api/parsing/job/b041e78d-6c29-4b54-9242-f469fa3923a5 \"HTTP/1.1 200 OK\"\n",
      "INFO 2024-07-04 15:19:57,684 _client.py:1773] HTTP Request: GET https://api.cloud.llamaindex.ai/api/parsing/job/b041e78d-6c29-4b54-9242-f469fa3923a5 \"HTTP/1.1 200 OK\"\n",
      "INFO 2024-07-04 15:20:00,639 _client.py:1773] HTTP Request: GET https://api.cloud.llamaindex.ai/api/parsing/job/b041e78d-6c29-4b54-9242-f469fa3923a5 \"HTTP/1.1 200 OK\"\n",
      "INFO 2024-07-04 15:20:03,610 _client.py:1773] HTTP Request: GET https://api.cloud.llamaindex.ai/api/parsing/job/b041e78d-6c29-4b54-9242-f469fa3923a5 \"HTTP/1.1 200 OK\"\n",
      "INFO 2024-07-04 15:20:04,146 _client.py:1773] HTTP Request: GET https://api.cloud.llamaindex.ai/api/parsing/job/b041e78d-6c29-4b54-9242-f469fa3923a5/result/markdown \"HTTP/1.1 200 OK\"\n"
     ]
    }
   ],
   "source": [
    "from llama_parse import LlamaParse\n",
    "import nest_asyncio\n",
    "\n",
    "nest_asyncio.apply()\n",
    "API_KEY = 'llx-YWsF0qbwjBsQlhd5RVPqjivhSiRR69FZKEpg36sbxQnGU9vF'\n",
    "# reference: https://cloud.llamaindex.ai/parse\n",
    "\n",
    "pdf_file = './temp2/temp_part_2.pdf'\n",
    "\n",
    "parser = LlamaParse(\n",
    "    api_key=API_KEY,  # can also be set in your env as LLAMA_CLOUD_API_KEY\n",
    "    result_type=\"markdown\",  # \"markdown\" and \"text\" are available\n",
    "    num_workers=4,  # if multiple files passed, split in `num_workers` API calls\n",
    "    verbose=True,\n",
    "    language=\"en\",  # Optionally you can define a language, default=en\n",
    ")\n",
    "documents = parser.load_data(pdf_file)\n",
    "\n",
    "#处理返回的文档\n",
    "with open('./part3_txt/P3_16/temp_part_2_cropped.txt', 'w+') as w:\n",
    "    for i in documents:\n",
    "        w.write(i.get_text())"
   ]
  }
 ],
 "metadata": {
  "kernelspec": {
   "display_name": "basic2",
   "language": "python",
   "name": "python3"
  },
  "language_info": {
   "codemirror_mode": {
    "name": "ipython",
    "version": 3
   },
   "file_extension": ".py",
   "mimetype": "text/x-python",
   "name": "python",
   "nbconvert_exporter": "python",
   "pygments_lexer": "ipython3",
   "version": "3.10.14"
  }
 },
 "nbformat": 4,
 "nbformat_minor": 2
}
