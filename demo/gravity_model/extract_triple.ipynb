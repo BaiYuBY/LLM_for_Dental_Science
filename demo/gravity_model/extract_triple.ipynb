{
 "cells": [
  {
   "cell_type": "code",
   "execution_count": 1,
   "metadata": {},
   "outputs": [],
   "source": [
    "import json\n",
    "import csv\n",
    "import os"
   ]
  },
  {
   "attachments": {},
   "cell_type": "markdown",
   "metadata": {},
   "source": [
    "```json\n",
    "    result: {\n",
    "        'id': 80402, \n",
    "        'text': '\\ufeff芯驰科技完成近10亿元B+轮融资，将用于加强大规模量产落地和服务能力。据悉，本轮融资将用于持续提升芯驰核心技术，迭代更新车规芯片产品，加强大规模量产落地和服务能力，加速芯驰产品更广泛上车应用。', \n",
    "        'entities': [\n",
    "            {'id': 782, 'label': '公司', 'start_offset': 1, 'end_offset': 5}, \n",
    "            {'id': 783, 'label': '公司', 'start_offset': 50, 'end_offset': 52}, \n",
    "            {'id': 785, 'label': '技术', 'start_offset': 61, 'end_offset': 65}, \n",
    "            {'id': 789, 'label': '作用', 'start_offset': 68, 'end_offset': 82}, \n",
    "            {'id': 792, 'label': '公司', 'start_offset': 85, 'end_offset': 87}\n",
    "        ], \n",
    "        'relations': [\n",
    "            {'id': 531, 'from_id': 783, 'to_id': 785, 'type': '研发_公司_技术'}, \n",
    "            {'id': 533, 'from_id': 785, 'to_id': 789, 'type': '实现_技术_作用'}\n",
    "        ], \n",
    "        'Comments': []\n",
    "    }\n",
    "```"
   ]
  },
  {
   "cell_type": "code",
   "execution_count": 2,
   "metadata": {},
   "outputs": [],
   "source": [
    "def findMatch_entity_name(id, entities, text):\n",
    "    # returns corresponding `label`\n",
    "    for e in entities:\n",
    "        if e[\"id\"] == id:\n",
    "            return text[e[\"start_offset\"]:e[\"end_offset\"]]"
   ]
  },
  {
   "cell_type": "code",
   "execution_count": 3,
   "metadata": {},
   "outputs": [],
   "source": [
    "def extract_triple(file_name, relation, out_dir):\n",
    "    # file_name: .jsonl file name of the data\n",
    "    # relation: \"合作\" | \"研发\" | \"投资\"\n",
    "    # out_dir: output directory, a string\n",
    "\n",
    "\n",
    "    # return: out_dir/${relation}.csv: csv file that contains all data matching the relation\n",
    "    #           - csv format: subject,relation,object\n",
    "    assert relation in [\"合作\", \"研发\", \"投资\"]\n",
    "\n",
    "    output_list = list()\n",
    "    with open(file_name, 'r', encoding=\"utf-8\") as f:\n",
    "        json_list = list(f)\n",
    "\n",
    "    for json_str in json_list:\n",
    "        result = json.loads(json_str)\n",
    "        text = result[\"text\"]\n",
    "        entities = result[\"entities\"]\n",
    "        relations = result[\"relations\"]\n",
    "        for i,r in enumerate(relations):\n",
    "            output_dict = dict()\n",
    "            # 先找对应关系\n",
    "            if r[\"type\"][:2] == relation:\n",
    "                # match subject\n",
    "                from_entity = findMatch_entity_name(r['from_id'], entities, text)\n",
    "                to_entity = findMatch_entity_name(r['to_id'], entities, text)\n",
    "                output_dict[\"subject\"] = from_entity\n",
    "                output_dict[\"relation\"] = r[\"type\"]\n",
    "                output_dict[\"object\"] = to_entity\n",
    "                output_list.append(output_dict)\n",
    "    \n",
    "    if not os.path.exists(out_dir):\n",
    "        os.makedirs(out_dir)\n",
    "    with open(out_dir+relation+'.csv', 'w', newline='', encoding='utf-8') as f:\n",
    "        writer = csv.writer(f)\n",
    "        writer.writerow(['subject', 'relation', 'object'])\n",
    "        for d in output_list:\n",
    "            writer.writerow(d.values())\n"
   ]
  },
  {
   "cell_type": "code",
   "execution_count": 4,
   "metadata": {},
   "outputs": [],
   "source": [
    "extract_triple(\"modifieid_output.jsonl\", \"合作\", \"./data/\")"
   ]
  },
  {
   "cell_type": "code",
   "execution_count": 5,
   "metadata": {},
   "outputs": [],
   "source": [
    "extract_triple(\"modifieid_output.jsonl\", \"研发\", \"./data/\")"
   ]
  },
  {
   "cell_type": "code",
   "execution_count": 6,
   "metadata": {},
   "outputs": [],
   "source": [
    "extract_triple(\"modifieid_output.jsonl\", \"投资\", \"./data/\")"
   ]
  }
 ],
 "metadata": {
  "kernelspec": {
   "display_name": "Python 3",
   "language": "python",
   "name": "python3"
  },
  "language_info": {
   "codemirror_mode": {
    "name": "ipython",
    "version": 3
   },
   "file_extension": ".py",
   "mimetype": "text/x-python",
   "name": "python",
   "nbconvert_exporter": "python",
   "pygments_lexer": "ipython3",
   "version": "3.8.0"
  },
  "orig_nbformat": 4,
  "vscode": {
   "interpreter": {
    "hash": "e337efa0dbf50a479327a09a7ca80daa2467993c275d2b4497525709bdc18a22"
   }
  }
 },
 "nbformat": 4,
 "nbformat_minor": 2
}
